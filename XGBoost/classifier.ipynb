{
 "cells": [
  {
   "cell_type": "markdown",
   "metadata": {},
   "source": [
    "# XGB Classifier"
   ]
  },
  {
   "cell_type": "markdown",
   "metadata": {},
   "source": [
    "### Imports"
   ]
  },
  {
   "cell_type": "code",
   "execution_count": 16,
   "metadata": {},
   "outputs": [],
   "source": [
    "\n",
    "# Lets import our necessary libraries\n",
    "import pandas as pd\n",
    "import seaborn as sns \n",
    "from sklearn.preprocessing import LabelEncoder, StandardScaler\n",
    "from sklearn.model_selection import train_test_split\n",
    "from sklearn.pipeline import Pipeline\n",
    "from xgboost import XGBClassifier\n",
    "from skopt import BayesSearchCV\n",
    "from skopt.space import Real, Integer\n",
    "from xgboost import plot_importance\n",
    "import matplotlib.pyplot as plt\n",
    "from sklearn.metrics import confusion_matrix"
   ]
  },
  {
   "cell_type": "markdown",
   "metadata": {},
   "source": [
    "### Data Loading and Cleaning"
   ]
  },
  {
   "cell_type": "code",
   "execution_count": 3,
   "metadata": {},
   "outputs": [],
   "source": [
    "# Create our list of dataframes containing each dataset\n",
    "df = pd.read_csv('../Data/dataset83.csv')\n",
    "\n",
    "# Remove unecessary data\n",
    "df.drop(['Year_start', 'Year_end'], axis='columns', inplace=True)\n",
    "\n",
    "# Encode the class data \n",
    "label_encoder = LabelEncoder()\n",
    "df['Species'] = label_encoder.fit_transform(df['Species'])\n",
    "df['Population'] = label_encoder.fit_transform(df['Population'])\n",
    "df['Sex'] = label_encoder.fit_transform(df['Sex'])\n",
    "\n",
    "# Converting a column to float\n",
    "df['Thorax_length'] = pd.to_numeric(df['Thorax_length'], errors='coerce').astype('float64')\n",
    "\n",
    "# Converting a column to int (after ensuring it's first converted to float to handle non-integer formats)\n",
    "df['wing_loading'] = pd.to_numeric(df['wing_loading'], errors='coerce').astype('float64')\n",
    "\n",
    "for col in df.columns:\n",
    "    if df[col].dtype == 'float64' or df[col].dtype == 'int64':\n",
    "        # Fill missing values with mean for numerical columns\n",
    "        col_mean = df[col].mean()\n",
    "        df[col] = df[col].fillna(col_mean)\n",
    "    elif df[col].dtype == 'object':\n",
    "        # Fill missing values with mode for categorical columns\n",
    "        col_mode = df[col].mode()[0]\n",
    "        df[col] = df[col].fillna(col_mode)"
   ]
  },
  {
   "cell_type": "markdown",
   "metadata": {},
   "source": [
    "### Separte Lables/Features and Normalise/Scale"
   ]
  },
  {
   "cell_type": "code",
   "execution_count": 26,
   "metadata": {},
   "outputs": [
    {
     "name": "stdout",
     "output_type": "stream",
     "text": [
      "0       0\n",
      "1       1\n",
      "2       0\n",
      "3       1\n",
      "4       0\n",
      "       ..\n",
      "1726    1\n",
      "1727    0\n",
      "1728    1\n",
      "1729    0\n",
      "1730    1\n",
      "Name: Sex, Length: 1731, dtype: int64\n"
     ]
    }
   ],
   "source": [
    "\n",
    "# Split up features and label\n",
    "X = df.drop(columns='Sex')\n",
    "y = df['Sex']\n",
    "\n",
    "# Normalize the features\n",
    "scaler = StandardScaler()\n",
    "X_scaled = scaler.fit_transform(X)"
   ]
  },
  {
   "cell_type": "markdown",
   "metadata": {},
   "source": [
    "### Perform Train Test Split"
   ]
  },
  {
   "cell_type": "code",
   "execution_count": 28,
   "metadata": {},
   "outputs": [
    {
     "name": "stdout",
     "output_type": "stream",
     "text": [
      "[1, 1, 1, 0, 1, 0, 0, 1, 1, 0, 1, 0, 0, 1, 0, 1, 1, 1, 1, 1, 0, 0, 1, 0, 0, 1, 1, 1, 0, 1, 0, 0, 0, 0, 1, 1, 0, 1, 0, 0, 1, 0, 0, 0, 0, 1, 0, 1, 0, 0, 1, 1, 1, 1, 1, 0, 0, 1, 0, 0, 1, 0, 0, 0, 0, 1, 0, 1, 0, 1, 0, 1, 0, 0, 1, 1, 0, 0, 0, 1, 0, 0, 1, 0, 1, 1, 1, 1, 0, 1, 1, 0, 0, 1, 0, 1, 0, 1, 0, 1, 1, 1, 1, 0, 1, 1, 1, 0, 1, 0, 0, 1, 1, 0, 0, 1, 0, 1, 0, 1, 1, 0, 1, 0, 0, 0, 0, 1, 1, 1, 0, 1, 1, 1, 0, 1, 0, 1, 0, 1, 0, 1, 0, 0, 1, 1, 1, 0, 1, 1, 0, 1, 1, 1, 1, 0, 0, 1, 1, 0, 1, 0, 1, 1, 0, 0, 1, 0, 1, 1, 0, 1, 0, 0, 0, 0, 1, 0, 1, 1, 0, 1, 0, 1, 0, 1, 0, 0, 0, 0, 1, 1, 0, 0, 0, 0, 0, 1, 1, 1, 1, 0, 0, 0, 0, 0, 0, 1, 1, 1, 1, 0, 0, 0, 0, 1, 1, 1, 0, 1, 1, 0, 0, 1, 0, 0, 0, 1, 0, 1, 0, 1, 1, 0, 0, 1, 1, 1, 0, 0, 0, 1, 1, 0, 0, 0, 0, 0, 0, 0, 1, 0, 0, 0, 1, 1, 0, 1, 0, 0, 1, 1, 0, 0, 0, 1, 1, 0, 1, 1, 0, 0, 1, 1, 0, 1, 0, 1, 1, 1, 0, 0, 0, 0, 1, 1, 1, 1, 0, 0, 0, 0, 1, 0, 1, 0, 1, 0, 1, 1, 1, 0, 0, 0, 1, 0, 0, 0, 0, 1, 1, 1, 1, 1, 1, 0, 0, 1, 0, 1, 1, 0, 0, 1, 1, 1, 0, 0, 1, 1, 0, 0, 0, 1, 0, 0, 1, 0, 0, 0, 1, 0, 1, 0, 1, 0, 0, 0, 0, 1, 1, 0, 0, 0, 1, 0, 0, 1, 1, 1, 1, 1, 1, 0, 1, 1, 0, 0, 0, 0, 1, 0, 1, 0, 0, 0, 0, 1, 1, 1, 1, 0, 0, 1, 0, 1, 0, 1, 1, 1, 0, 0, 0, 1, 1, 1, 1, 0, 0, 0, 1, 0, 0, 1, 1, 0, 1, 1, 1, 0, 1, 1, 0, 1, 1, 0, 1, 0, 1, 1, 0, 1, 1, 1, 0, 0, 0, 0, 1, 0, 0, 0, 0, 1, 1, 0, 0, 1, 0, 0, 0, 0, 1, 0, 0, 1, 1, 1, 1, 1, 0, 0, 0, 1, 1, 1, 1, 1, 1, 1, 0, 0, 1, 1, 1, 0, 0, 0, 1, 0, 0, 0, 1, 1, 1, 0, 0, 1, 0, 0, 0, 1, 1, 1, 1, 1, 1, 0, 1, 1, 1, 0, 0, 1, 1, 1, 1, 0, 1, 1, 1, 0, 1, 1, 1, 1, 1, 1, 0, 0, 0, 0, 0, 0, 1, 1, 0, 1, 1, 1, 0, 1, 0, 0, 1, 1, 0, 0, 0, 1, 1, 1, 1, 1, 1, 0, 0, 1, 0, 0, 0, 1, 0, 1, 1, 1, 1, 0, 0, 1, 0, 1, 0, 0, 0, 1, 1, 1, 0, 0, 1, 0, 0, 0, 1, 0, 0, 1, 1, 1, 1, 0, 0, 0, 0, 0, 1, 0, 0, 1, 1, 1, 0, 1, 1, 0, 1, 1, 1, 0, 0, 1, 0, 0, 0, 0, 1, 0, 1, 1, 1, 0, 0, 1, 0, 1, 0, 0, 1, 1, 1, 0, 1, 0, 1, 1, 0, 0, 0, 1, 1, 0, 0, 1, 1, 1, 0, 0, 0, 1, 0, 0, 1, 0, 0, 0, 0, 1, 1, 0, 1, 1, 0, 1, 1, 0, 0, 1, 1, 1, 1, 1, 1, 1, 0, 1, 0, 1, 0, 0, 0, 1, 0, 1, 1, 1, 0, 1, 1, 1, 0, 1, 0, 0, 0, 0, 0, 1, 1, 0, 0, 1, 0, 1, 0, 1, 0, 1, 1, 0, 1, 1, 1, 0, 0, 1, 0, 0, 1, 1, 1, 1, 0, 0, 1, 1, 1, 1, 0, 0, 0, 0, 0, 1, 0, 0, 1, 0, 0, 0, 0, 1, 1, 1, 0, 1, 1, 1, 0, 1, 0, 0, 1, 1, 0, 0, 0, 0, 1, 0, 1, 1, 0, 0, 1, 0, 1, 1, 0, 1, 1, 0, 1, 0, 0, 1, 1, 0, 0, 1, 0, 1, 1, 1, 0, 0, 1, 0, 0, 0, 1, 0, 0, 1, 0, 1, 1, 1, 1, 0, 0, 0, 1, 0, 0, 0, 1, 1, 0, 1, 1, 0, 1, 1, 1, 1, 1, 1, 0, 0, 1, 0, 0, 1, 0, 1, 1, 0, 1, 1, 0, 0, 0, 0, 1, 1, 1, 0, 0, 0, 1, 0, 0, 0, 1, 1, 0, 1, 0, 0, 0, 1, 1, 0, 0, 1, 1, 0, 0, 0, 1, 0, 0, 1, 1, 1, 1, 1, 1, 1, 0, 0, 1, 0, 0, 0, 1, 0, 0, 1, 1, 0, 1, 0, 0, 0, 0, 0, 1, 0, 1, 0, 1, 1, 0, 1, 0, 1, 0, 1, 0, 0, 0, 0, 1, 1, 1, 1, 0, 0, 1, 1, 0, 0, 0, 0, 1, 1, 1, 1, 1, 0, 1, 1, 1, 1, 0, 1, 0, 0, 0, 1, 0, 0, 0, 1, 1, 0, 1, 0, 1, 0, 1, 1, 1, 1, 1, 0, 1, 0, 1, 1, 1, 0, 1, 1, 0, 1, 1, 0, 0, 1, 0, 1, 0, 1, 1, 0, 1, 1, 0, 0, 0, 0, 1, 1, 1, 1, 0, 1, 1, 0, 1, 1, 0, 1, 0, 1, 0, 1, 0, 1, 1, 1, 0, 0, 1, 0, 1, 0, 0, 1, 1, 1, 1, 0, 1, 1, 0, 1, 1, 0, 0, 1, 1, 1, 0, 1, 1, 1, 0, 0, 1, 0, 0, 0, 1, 1, 1, 1, 0, 1, 0, 0, 1, 1, 0, 1, 0, 1, 0, 1, 1, 0, 0, 1, 1, 0, 1, 1, 1, 0, 0, 1, 1, 1, 1, 0, 0, 1, 1, 0, 0, 0, 0, 0, 0, 0, 1, 0, 0, 0, 1, 1, 0, 0, 0, 1, 0, 1, 0, 1, 0, 1, 1, 0, 0, 1, 1, 0, 0, 1, 1, 0, 1, 0, 0, 1, 0, 1, 0, 1, 1, 0, 0, 0, 1, 1, 1, 0, 0, 1, 0, 1, 1, 1, 0, 0, 0, 0, 0, 1, 1, 1, 1, 0, 0, 0, 0, 0, 0, 0, 0, 1, 1, 0, 0, 1, 1, 1, 1, 1, 0, 1, 1, 0, 0, 1, 0, 1, 0, 1, 0, 0, 0, 0, 1, 0, 1, 1, 0, 0, 1, 0, 1, 0, 0, 0, 1, 0, 1, 0, 0, 1, 1, 1, 0, 1, 0, 1, 1, 1, 1, 0, 1, 0, 0, 1, 1, 0, 0, 1, 0, 1, 1, 1, 1, 0, 0, 1, 1, 1, 0, 0, 0, 0, 1, 0, 1, 1, 0, 0, 0, 1, 0, 1, 0, 0, 0, 0, 0, 1, 0, 0, 1, 1, 1, 0, 0, 1, 0, 1, 0, 0, 0, 0, 1, 1, 0, 0, 0, 1, 1, 0, 1, 1, 0, 0, 1, 0, 0, 1, 0, 1, 0, 0, 0, 1, 1, 0, 0, 0, 0, 0, 0, 0, 1, 1, 1, 1, 0, 1, 0, 1, 0, 0, 0, 1, 1, 1, 0, 1, 0, 0, 1, 0, 0, 0, 0, 0, 0, 0, 1, 1, 0, 0, 1, 1, 0, 0, 0, 1, 0, 1, 1, 1, 0, 0, 1, 0, 0, 0, 0, 0, 1, 1, 1, 1, 1, 0, 0, 1, 0, 1, 1, 1, 0, 0, 1, 0, 1, 1, 1, 0, 1, 0, 1, 1, 1, 0, 1, 1, 0, 0, 1, 1, 1, 1, 1, 1, 1, 1, 0, 1, 1, 1, 0, 1, 0, 1, 1, 1, 1, 1, 0, 0, 1, 1, 0, 1, 0, 1, 1, 0, 0, 0, 1, 0, 1, 0, 1, 0, 1, 0, 1, 1, 1, 1, 0, 0, 0, 0, 1, 0, 1, 0, 1, 1, 1, 1, 1, 0, 1, 0, 0, 1, 1, 1, 0, 0, 0, 1, 0, 0, 1, 1, 0, 0, 1, 0, 0, 1, 1, 0, 1, 1, 0, 0, 1, 0, 0, 1, 0, 1, 0, 1, 0, 0, 0, 1, 1, 0, 0, 1, 0, 0, 1, 0, 0, 1, 1, 1, 0, 1, 1, 1, 1, 1, 0, 1, 0, 1, 0, 1, 0, 1, 0, 1, 1, 1, 0, 0, 0, 1, 1, 0, 1, 1, 1, 0, 1, 0, 1, 0, 0, 0, 0, 0, 0, 0, 1, 0, 0, 0, 0, 1, 1, 1, 1, 0, 1, 0, 0, 1, 1, 1, 1, 0, 1, 0, 1, 0, 0, 0, 1, 1, 1, 1, 0, 0, 0, 1, 0, 1, 1, 1, 0, 0, 0, 0, 1, 0, 0, 0, 1, 1, 1, 1, 1, 1, 0, 0, 1, 1, 1, 1, 1, 0, 0, 1, 1, 1, 0, 1, 1, 0, 1, 1, 0, 1, 1, 0, 0, 1, 1, 0, 0, 0, 0, 0, 0, 0, 1, 1, 0, 0, 0]\n"
     ]
    }
   ],
   "source": [
    "# Perform a 90/10 train test split\n",
    "X_train, X_test, y_train, y_test = train_test_split(X_scaled, y, test_size=0.1, stratify=y, random_state=420) # Stratify to ensure classes evenly spread"
   ]
  },
  {
   "cell_type": "markdown",
   "metadata": {},
   "source": [
    "### Define and Train Model"
   ]
  },
  {
   "cell_type": "code",
   "execution_count": 6,
   "metadata": {},
   "outputs": [
    {
     "data": {
      "text/html": [
       "<style>#sk-container-id-1 {color: black;}#sk-container-id-1 pre{padding: 0;}#sk-container-id-1 div.sk-toggleable {background-color: white;}#sk-container-id-1 label.sk-toggleable__label {cursor: pointer;display: block;width: 100%;margin-bottom: 0;padding: 0.3em;box-sizing: border-box;text-align: center;}#sk-container-id-1 label.sk-toggleable__label-arrow:before {content: \"▸\";float: left;margin-right: 0.25em;color: #696969;}#sk-container-id-1 label.sk-toggleable__label-arrow:hover:before {color: black;}#sk-container-id-1 div.sk-estimator:hover label.sk-toggleable__label-arrow:before {color: black;}#sk-container-id-1 div.sk-toggleable__content {max-height: 0;max-width: 0;overflow: hidden;text-align: left;background-color: #f0f8ff;}#sk-container-id-1 div.sk-toggleable__content pre {margin: 0.2em;color: black;border-radius: 0.25em;background-color: #f0f8ff;}#sk-container-id-1 input.sk-toggleable__control:checked~div.sk-toggleable__content {max-height: 200px;max-width: 100%;overflow: auto;}#sk-container-id-1 input.sk-toggleable__control:checked~label.sk-toggleable__label-arrow:before {content: \"▾\";}#sk-container-id-1 div.sk-estimator input.sk-toggleable__control:checked~label.sk-toggleable__label {background-color: #d4ebff;}#sk-container-id-1 div.sk-label input.sk-toggleable__control:checked~label.sk-toggleable__label {background-color: #d4ebff;}#sk-container-id-1 input.sk-hidden--visually {border: 0;clip: rect(1px 1px 1px 1px);clip: rect(1px, 1px, 1px, 1px);height: 1px;margin: -1px;overflow: hidden;padding: 0;position: absolute;width: 1px;}#sk-container-id-1 div.sk-estimator {font-family: monospace;background-color: #f0f8ff;border: 1px dotted black;border-radius: 0.25em;box-sizing: border-box;margin-bottom: 0.5em;}#sk-container-id-1 div.sk-estimator:hover {background-color: #d4ebff;}#sk-container-id-1 div.sk-parallel-item::after {content: \"\";width: 100%;border-bottom: 1px solid gray;flex-grow: 1;}#sk-container-id-1 div.sk-label:hover label.sk-toggleable__label {background-color: #d4ebff;}#sk-container-id-1 div.sk-serial::before {content: \"\";position: absolute;border-left: 1px solid gray;box-sizing: border-box;top: 0;bottom: 0;left: 50%;z-index: 0;}#sk-container-id-1 div.sk-serial {display: flex;flex-direction: column;align-items: center;background-color: white;padding-right: 0.2em;padding-left: 0.2em;position: relative;}#sk-container-id-1 div.sk-item {position: relative;z-index: 1;}#sk-container-id-1 div.sk-parallel {display: flex;align-items: stretch;justify-content: center;background-color: white;position: relative;}#sk-container-id-1 div.sk-item::before, #sk-container-id-1 div.sk-parallel-item::before {content: \"\";position: absolute;border-left: 1px solid gray;box-sizing: border-box;top: 0;bottom: 0;left: 50%;z-index: -1;}#sk-container-id-1 div.sk-parallel-item {display: flex;flex-direction: column;z-index: 1;position: relative;background-color: white;}#sk-container-id-1 div.sk-parallel-item:first-child::after {align-self: flex-end;width: 50%;}#sk-container-id-1 div.sk-parallel-item:last-child::after {align-self: flex-start;width: 50%;}#sk-container-id-1 div.sk-parallel-item:only-child::after {width: 0;}#sk-container-id-1 div.sk-dashed-wrapped {border: 1px dashed gray;margin: 0 0.4em 0.5em 0.4em;box-sizing: border-box;padding-bottom: 0.4em;background-color: white;}#sk-container-id-1 div.sk-label label {font-family: monospace;font-weight: bold;display: inline-block;line-height: 1.2em;}#sk-container-id-1 div.sk-label-container {text-align: center;}#sk-container-id-1 div.sk-container {/* jupyter's `normalize.less` sets `[hidden] { display: none; }` but bootstrap.min.css set `[hidden] { display: none !important; }` so we also need the `!important` here to be able to override the default hidden behavior on the sphinx rendered scikit-learn.org. See: https://github.com/scikit-learn/scikit-learn/issues/21755 */display: inline-block !important;position: relative;}#sk-container-id-1 div.sk-text-repr-fallback {display: none;}</style><div id=\"sk-container-id-1\" class=\"sk-top-container\"><div class=\"sk-text-repr-fallback\"><pre>BayesSearchCV(cv=10,\n",
       "              estimator=Pipeline(steps=[(&#x27;scaler&#x27;, StandardScaler()),\n",
       "                                        (&#x27;clf&#x27;,\n",
       "                                         XGBClassifier(base_score=None,\n",
       "                                                       booster=None,\n",
       "                                                       callbacks=None,\n",
       "                                                       colsample_bylevel=None,\n",
       "                                                       colsample_bynode=None,\n",
       "                                                       colsample_bytree=None,\n",
       "                                                       device=None,\n",
       "                                                       early_stopping_rounds=None,\n",
       "                                                       enable_categorical=False,\n",
       "                                                       eval_metric=None,\n",
       "                                                       feature_types=None,\n",
       "                                                       gamma=None,\n",
       "                                                       grow_policy=None,\n",
       "                                                       importance_type=...\n",
       "                             &#x27;clf__max_depth&#x27;: Integer(low=2, high=17, prior=&#x27;uniform&#x27;, transform=&#x27;normalize&#x27;),\n",
       "                             &#x27;clf__n_estimators&#x27;: Integer(low=100, high=500, prior=&#x27;uniform&#x27;, transform=&#x27;normalize&#x27;),\n",
       "                             &#x27;clf__reg_alpha&#x27;: Real(low=0.0, high=10.0, prior=&#x27;uniform&#x27;, transform=&#x27;normalize&#x27;),\n",
       "                             &#x27;clf__reg_lambda&#x27;: Real(low=0.0, high=10.0, prior=&#x27;uniform&#x27;, transform=&#x27;normalize&#x27;),\n",
       "                             &#x27;clf__subsample&#x27;: Real(low=0.5, high=1.0, prior=&#x27;uniform&#x27;, transform=&#x27;normalize&#x27;)})</pre><b>In a Jupyter environment, please rerun this cell to show the HTML representation or trust the notebook. <br />On GitHub, the HTML representation is unable to render, please try loading this page with nbviewer.org.</b></div><div class=\"sk-container\" hidden><div class=\"sk-item sk-dashed-wrapped\"><div class=\"sk-label-container\"><div class=\"sk-label sk-toggleable\"><input class=\"sk-toggleable__control sk-hidden--visually\" id=\"sk-estimator-id-1\" type=\"checkbox\" ><label for=\"sk-estimator-id-1\" class=\"sk-toggleable__label sk-toggleable__label-arrow\">BayesSearchCV</label><div class=\"sk-toggleable__content\"><pre>BayesSearchCV(cv=10,\n",
       "              estimator=Pipeline(steps=[(&#x27;scaler&#x27;, StandardScaler()),\n",
       "                                        (&#x27;clf&#x27;,\n",
       "                                         XGBClassifier(base_score=None,\n",
       "                                                       booster=None,\n",
       "                                                       callbacks=None,\n",
       "                                                       colsample_bylevel=None,\n",
       "                                                       colsample_bynode=None,\n",
       "                                                       colsample_bytree=None,\n",
       "                                                       device=None,\n",
       "                                                       early_stopping_rounds=None,\n",
       "                                                       enable_categorical=False,\n",
       "                                                       eval_metric=None,\n",
       "                                                       feature_types=None,\n",
       "                                                       gamma=None,\n",
       "                                                       grow_policy=None,\n",
       "                                                       importance_type=...\n",
       "                             &#x27;clf__max_depth&#x27;: Integer(low=2, high=17, prior=&#x27;uniform&#x27;, transform=&#x27;normalize&#x27;),\n",
       "                             &#x27;clf__n_estimators&#x27;: Integer(low=100, high=500, prior=&#x27;uniform&#x27;, transform=&#x27;normalize&#x27;),\n",
       "                             &#x27;clf__reg_alpha&#x27;: Real(low=0.0, high=10.0, prior=&#x27;uniform&#x27;, transform=&#x27;normalize&#x27;),\n",
       "                             &#x27;clf__reg_lambda&#x27;: Real(low=0.0, high=10.0, prior=&#x27;uniform&#x27;, transform=&#x27;normalize&#x27;),\n",
       "                             &#x27;clf__subsample&#x27;: Real(low=0.5, high=1.0, prior=&#x27;uniform&#x27;, transform=&#x27;normalize&#x27;)})</pre></div></div></div><div class=\"sk-parallel\"><div class=\"sk-parallel-item\"><div class=\"sk-item\"><div class=\"sk-label-container\"><div class=\"sk-label sk-toggleable\"><input class=\"sk-toggleable__control sk-hidden--visually\" id=\"sk-estimator-id-2\" type=\"checkbox\" ><label for=\"sk-estimator-id-2\" class=\"sk-toggleable__label sk-toggleable__label-arrow\">estimator: Pipeline</label><div class=\"sk-toggleable__content\"><pre>Pipeline(steps=[(&#x27;scaler&#x27;, StandardScaler()),\n",
       "                (&#x27;clf&#x27;,\n",
       "                 XGBClassifier(base_score=None, booster=None, callbacks=None,\n",
       "                               colsample_bylevel=None, colsample_bynode=None,\n",
       "                               colsample_bytree=None, device=None,\n",
       "                               early_stopping_rounds=None,\n",
       "                               enable_categorical=False, eval_metric=None,\n",
       "                               feature_types=None, gamma=None, grow_policy=None,\n",
       "                               importance_type=None,\n",
       "                               interaction_constraints=None, learning_rate=None,\n",
       "                               max_bin=None, max_cat_threshold=None,\n",
       "                               max_cat_to_onehot=None, max_delta_step=None,\n",
       "                               max_depth=None, max_leaves=None,\n",
       "                               min_child_weight=None, missing=nan,\n",
       "                               monotone_constraints=None, multi_strategy=None,\n",
       "                               n_estimators=None, n_jobs=None,\n",
       "                               num_parallel_tree=None, random_state=420, ...))])</pre></div></div></div><div class=\"sk-serial\"><div class=\"sk-item\"><div class=\"sk-serial\"><div class=\"sk-item\"><div class=\"sk-estimator sk-toggleable\"><input class=\"sk-toggleable__control sk-hidden--visually\" id=\"sk-estimator-id-3\" type=\"checkbox\" ><label for=\"sk-estimator-id-3\" class=\"sk-toggleable__label sk-toggleable__label-arrow\">StandardScaler</label><div class=\"sk-toggleable__content\"><pre>StandardScaler()</pre></div></div></div><div class=\"sk-item\"><div class=\"sk-estimator sk-toggleable\"><input class=\"sk-toggleable__control sk-hidden--visually\" id=\"sk-estimator-id-4\" type=\"checkbox\" ><label for=\"sk-estimator-id-4\" class=\"sk-toggleable__label sk-toggleable__label-arrow\">XGBClassifier</label><div class=\"sk-toggleable__content\"><pre>XGBClassifier(base_score=None, booster=None, callbacks=None,\n",
       "              colsample_bylevel=None, colsample_bynode=None,\n",
       "              colsample_bytree=None, device=None, early_stopping_rounds=None,\n",
       "              enable_categorical=False, eval_metric=None, feature_types=None,\n",
       "              gamma=None, grow_policy=None, importance_type=None,\n",
       "              interaction_constraints=None, learning_rate=None, max_bin=None,\n",
       "              max_cat_threshold=None, max_cat_to_onehot=None,\n",
       "              max_delta_step=None, max_depth=None, max_leaves=None,\n",
       "              min_child_weight=None, missing=nan, monotone_constraints=None,\n",
       "              multi_strategy=None, n_estimators=None, n_jobs=None,\n",
       "              num_parallel_tree=None, random_state=420, ...)</pre></div></div></div></div></div></div></div></div></div></div></div></div>"
      ],
      "text/plain": [
       "BayesSearchCV(cv=10,\n",
       "              estimator=Pipeline(steps=[('scaler', StandardScaler()),\n",
       "                                        ('clf',\n",
       "                                         XGBClassifier(base_score=None,\n",
       "                                                       booster=None,\n",
       "                                                       callbacks=None,\n",
       "                                                       colsample_bylevel=None,\n",
       "                                                       colsample_bynode=None,\n",
       "                                                       colsample_bytree=None,\n",
       "                                                       device=None,\n",
       "                                                       early_stopping_rounds=None,\n",
       "                                                       enable_categorical=False,\n",
       "                                                       eval_metric=None,\n",
       "                                                       feature_types=None,\n",
       "                                                       gamma=None,\n",
       "                                                       grow_policy=None,\n",
       "                                                       importance_type=...\n",
       "                             'clf__max_depth': Integer(low=2, high=17, prior='uniform', transform='normalize'),\n",
       "                             'clf__n_estimators': Integer(low=100, high=500, prior='uniform', transform='normalize'),\n",
       "                             'clf__reg_alpha': Real(low=0.0, high=10.0, prior='uniform', transform='normalize'),\n",
       "                             'clf__reg_lambda': Real(low=0.0, high=10.0, prior='uniform', transform='normalize'),\n",
       "                             'clf__subsample': Real(low=0.5, high=1.0, prior='uniform', transform='normalize')})"
      ]
     },
     "execution_count": 6,
     "metadata": {},
     "output_type": "execute_result"
    }
   ],
   "source": [
    "# Define the model\n",
    "model = XGBClassifier(random_state=420)\n",
    "\n",
    "# Create a pipeline\n",
    "pipe = Pipeline([\n",
    "    ('scaler', StandardScaler()),  # Ensure scaling is part of the pipeline to prevent data leakage\n",
    "    ('clf', model)\n",
    "])\n",
    "\n",
    "# Setup tuning for the hyperparameters \n",
    "search_space = {\n",
    "    'clf__max_depth': Integer(2, 17),\n",
    "    'clf__learning_rate': Real(0.001, 1.0, prior='log-uniform'),\n",
    "    'clf__subsample': Real(0.5, 1.0),\n",
    "    'clf__colsample_bytree': Real(0.5, 1.0),\n",
    "    'clf__colsample_bylevel': Real(0.5, 1.0),\n",
    "    'clf__colsample_bynode': Real(0.5, 1.0),\n",
    "    'clf__reg_alpha': Real(0.0, 10.0),\n",
    "    'clf__reg_lambda': Real(0.0, 10.0),\n",
    "    'clf__gamma': Real(0.0, 10.0),\n",
    "    'clf__n_estimators': Integer(100, 500)\n",
    "}\n",
    "opt = BayesSearchCV(pipe, search_space, cv=10, n_iter=10, scoring='roc_auc', random_state=420)\n",
    "opt.fit(X_train, y_train)"
   ]
  },
  {
   "cell_type": "markdown",
   "metadata": {},
   "source": [
    "### Best Model Parameters"
   ]
  },
  {
   "cell_type": "code",
   "execution_count": 7,
   "metadata": {},
   "outputs": [
    {
     "name": "stdout",
     "output_type": "stream",
     "text": [
      "Best Estimator: Pipeline(steps=[('scaler', StandardScaler()),\n",
      "                ('clf',\n",
      "                 XGBClassifier(base_score=None, booster=None, callbacks=None,\n",
      "                               colsample_bylevel=0.9293912411493371,\n",
      "                               colsample_bynode=0.7898895684191161,\n",
      "                               colsample_bytree=0.7007188826885055, device=None,\n",
      "                               early_stopping_rounds=None,\n",
      "                               enable_categorical=False, eval_metric=None,\n",
      "                               feature_types=None, gamma=8.269507500638683,\n",
      "                               grow_pol...e, importance_type=None,\n",
      "                               interaction_constraints=None,\n",
      "                               learning_rate=0.26582794314867314, max_bin=None,\n",
      "                               max_cat_threshold=None, max_cat_to_onehot=None,\n",
      "                               max_delta_step=None, max_depth=10,\n",
      "                               max_leaves=None, min_child_weight=None,\n",
      "                               missing=nan, monotone_constraints=None,\n",
      "                               multi_strategy=None, n_estimators=468,\n",
      "                               n_jobs=None, num_parallel_tree=None,\n",
      "                               random_state=420, ...))])\n",
      "\n"
     ]
    }
   ],
   "source": [
    "print(f\"Best Estimator: {opt.best_estimator_}\\n\")"
   ]
  },
  {
   "cell_type": "markdown",
   "metadata": {},
   "source": [
    "### Best Train and Test Scores"
   ]
  },
  {
   "cell_type": "code",
   "execution_count": 8,
   "metadata": {},
   "outputs": [
    {
     "name": "stdout",
     "output_type": "stream",
     "text": [
      "Best Train Score: 0.9804133211265637\n",
      "\n",
      "Test Score: 0.9816331923890064\n",
      "\n"
     ]
    }
   ],
   "source": [
    "print(f\"Best Train Score: {opt.best_score_}\\n\")\n",
    "print(f\"Test Score: {opt.score(X_test, y_test)}\\n\")"
   ]
  },
  {
   "cell_type": "markdown",
   "metadata": {},
   "source": [
    "### Predictions and Probabilities of test set"
   ]
  },
  {
   "cell_type": "code",
   "execution_count": 9,
   "metadata": {},
   "outputs": [
    {
     "name": "stdout",
     "output_type": "stream",
     "text": [
      "Predictions: [1 1 0 1 1 0 1 0 1 0 1 0 0 0 1 1 1 0 0 0 0 1 1 0 0 0 1 0 1 0 0 0 1 0 0 0 0\n",
      " 0 1 0 1 0 0 0 1 1 0 0 0 1 1 1 1 1 1 0 0 0 1 1 0 1 1 0 1 0 0 0 1 0 1 0 1 1\n",
      " 1 0 1 1 1 1 0 1 0 1 0 1 1 1 1 1 1 1 1 1 1 0 0 0 0 0 1 1 0 1 1 1 1 0 1 1 1\n",
      " 0 1 1 1 0 1 1 0 1 0 1 0 1 1 0 0 0 1 0 0 0 1 1 1 0 1 0 1 1 0 0 1 1 1 1 0 0\n",
      " 0 0 1 1 1 1 1 1 1 1 0 0 0 1 1 1 1 0 0 1 1 1 0 0 0 1]\n",
      "\n",
      "Probabilities: [[0.07765228 0.9223477 ]\n",
      " [0.1265378  0.8734622 ]\n",
      " [0.92615867 0.07384136]\n",
      " [0.37070078 0.6292992 ]\n",
      " [0.08897322 0.9110268 ]\n",
      " [0.90051204 0.09948798]\n",
      " [0.08796757 0.9120324 ]\n",
      " [0.9615029  0.03849712]\n",
      " [0.05115634 0.94884366]\n",
      " [0.96168834 0.03831164]\n",
      " [0.04124713 0.9587529 ]\n",
      " [0.91308194 0.08691807]\n",
      " [0.957125   0.04287498]\n",
      " [0.957125   0.04287498]\n",
      " [0.0770067  0.9229933 ]\n",
      " [0.06901538 0.9309846 ]\n",
      " [0.16412938 0.8358706 ]\n",
      " [0.957125   0.04287498]\n",
      " [0.909291   0.09070898]\n",
      " [0.9656201  0.03437993]\n",
      " [0.5864658  0.41353422]\n",
      " [0.04124713 0.9587529 ]\n",
      " [0.22416782 0.7758322 ]\n",
      " [0.86621714 0.1337829 ]\n",
      " [0.9309267  0.06907333]\n",
      " [0.957125   0.04287498]\n",
      " [0.08095247 0.91904753]\n",
      " [0.80251    0.19748996]\n",
      " [0.11001605 0.88998395]\n",
      " [0.96900964 0.03099036]\n",
      " [0.9359893  0.06401067]\n",
      " [0.93143076 0.06856922]\n",
      " [0.3406973  0.6593027 ]\n",
      " [0.8444088  0.1555912 ]\n",
      " [0.957125   0.04287498]\n",
      " [0.94053113 0.05946888]\n",
      " [0.66690433 0.33309567]\n",
      " [0.6714225  0.32857755]\n",
      " [0.08796757 0.9120324 ]\n",
      " [0.92771775 0.07228225]\n",
      " [0.13141626 0.86858374]\n",
      " [0.8063719  0.19362804]\n",
      " [0.9687569  0.03124309]\n",
      " [0.9471492  0.05285079]\n",
      " [0.06832922 0.9316708 ]\n",
      " [0.04734159 0.9526584 ]\n",
      " [0.957125   0.04287498]\n",
      " [0.957125   0.04287498]\n",
      " [0.96992177 0.03007821]\n",
      " [0.44442666 0.55557334]\n",
      " [0.39834303 0.601657  ]\n",
      " [0.05903035 0.94096965]\n",
      " [0.14774168 0.8522583 ]\n",
      " [0.24088877 0.7591112 ]\n",
      " [0.06382942 0.9361706 ]\n",
      " [0.9542939  0.04570611]\n",
      " [0.93145514 0.06854489]\n",
      " [0.957125   0.04287498]\n",
      " [0.1191448  0.8808552 ]\n",
      " [0.1979934  0.8020066 ]\n",
      " [0.6271172  0.37288278]\n",
      " [0.04288888 0.9571111 ]\n",
      " [0.18435097 0.81564903]\n",
      " [0.957125   0.04287498]\n",
      " [0.49974024 0.50025976]\n",
      " [0.957125   0.04287498]\n",
      " [0.9618382  0.03816184]\n",
      " [0.694767   0.30523303]\n",
      " [0.08796757 0.9120324 ]\n",
      " [0.96161664 0.03838337]\n",
      " [0.13479382 0.8652062 ]\n",
      " [0.770026   0.22997396]\n",
      " [0.05903035 0.94096965]\n",
      " [0.06382942 0.9361706 ]\n",
      " [0.05903035 0.94096965]\n",
      " [0.86075795 0.13924204]\n",
      " [0.05903035 0.94096965]\n",
      " [0.09630185 0.90369815]\n",
      " [0.09630185 0.90369815]\n",
      " [0.07132673 0.92867327]\n",
      " [0.6714225  0.32857755]\n",
      " [0.33707994 0.66292006]\n",
      " [0.957125   0.04287498]\n",
      " [0.1265378  0.8734622 ]\n",
      " [0.95906943 0.0409306 ]\n",
      " [0.05115634 0.94884366]\n",
      " [0.07399184 0.92600816]\n",
      " [0.08796757 0.9120324 ]\n",
      " [0.05488884 0.94511116]\n",
      " [0.06901538 0.9309846 ]\n",
      " [0.08796757 0.9120324 ]\n",
      " [0.08036095 0.91963905]\n",
      " [0.1688543  0.8311457 ]\n",
      " [0.33068728 0.6693127 ]\n",
      " [0.09630185 0.90369815]\n",
      " [0.7492119  0.25078806]\n",
      " [0.96161664 0.03838337]\n",
      " [0.7483852  0.25161478]\n",
      " [0.957125   0.04287498]\n",
      " [0.957125   0.04287498]\n",
      " [0.07051694 0.92948306]\n",
      " [0.43251872 0.5674813 ]\n",
      " [0.8918393  0.10816067]\n",
      " [0.06382942 0.9361706 ]\n",
      " [0.14002508 0.8599749 ]\n",
      " [0.09630185 0.90369815]\n",
      " [0.07509166 0.92490834]\n",
      " [0.96608853 0.03391146]\n",
      " [0.06382942 0.9361706 ]\n",
      " [0.2893833  0.7106167 ]\n",
      " [0.15151757 0.84848243]\n",
      " [0.96161664 0.03838337]\n",
      " [0.23904014 0.76095986]\n",
      " [0.03432757 0.96567243]\n",
      " [0.09778118 0.9022188 ]\n",
      " [0.934345   0.06565499]\n",
      " [0.06163204 0.93836796]\n",
      " [0.04288888 0.9571111 ]\n",
      " [0.96161664 0.03838337]\n",
      " [0.21841294 0.78158706]\n",
      " [0.957125   0.04287498]\n",
      " [0.13236791 0.8676321 ]\n",
      " [0.8127266  0.18727335]\n",
      " [0.06841046 0.93158954]\n",
      " [0.43964207 0.5603579 ]\n",
      " [0.957125   0.04287498]\n",
      " [0.7024118  0.29758826]\n",
      " [0.9233003  0.07669967]\n",
      " [0.41113228 0.5888677 ]\n",
      " [0.96579117 0.03420885]\n",
      " [0.90051204 0.09948798]\n",
      " [0.52624166 0.47375837]\n",
      " [0.35184592 0.6481541 ]\n",
      " [0.05603331 0.9439667 ]\n",
      " [0.09630185 0.90369815]\n",
      " [0.85266596 0.14733402]\n",
      " [0.08036095 0.91963905]\n",
      " [0.9701487  0.02985135]\n",
      " [0.05137074 0.94862926]\n",
      " [0.32291287 0.6770871 ]\n",
      " [0.96161664 0.03838337]\n",
      " [0.957125   0.04287498]\n",
      " [0.05903035 0.94096965]\n",
      " [0.14774168 0.8522583 ]\n",
      " [0.08796757 0.9120324 ]\n",
      " [0.06901538 0.9309846 ]\n",
      " [0.957125   0.04287498]\n",
      " [0.9233003  0.07669967]\n",
      " [0.9046321  0.09536794]\n",
      " [0.9697175  0.03028247]\n",
      " [0.04288888 0.9571111 ]\n",
      " [0.08062744 0.91937256]\n",
      " [0.05137074 0.94862926]\n",
      " [0.10445064 0.89554936]\n",
      " [0.09868616 0.90131384]\n",
      " [0.13824445 0.86175555]\n",
      " [0.04734159 0.9526584 ]\n",
      " [0.44248998 0.55751   ]\n",
      " [0.96161664 0.03838337]\n",
      " [0.9249498  0.07505019]\n",
      " [0.9670464  0.03295363]\n",
      " [0.09630185 0.90369815]\n",
      " [0.11001605 0.88998395]\n",
      " [0.06382942 0.9361706 ]\n",
      " [0.07222241 0.9277776 ]\n",
      " [0.96900964 0.03099036]\n",
      " [0.9389501  0.06104987]\n",
      " [0.08796757 0.9120324 ]\n",
      " [0.06901538 0.9309846 ]\n",
      " [0.08796757 0.9120324 ]\n",
      " [0.86915284 0.13084717]\n",
      " [0.9436981  0.0563019 ]\n",
      " [0.96579313 0.03420684]\n",
      " [0.4408635  0.5591365 ]]\n",
      "\n"
     ]
    }
   ],
   "source": [
    "print(f\"Predictions: {opt.predict(X_test)}\\n\")\n",
    "print(f\"Probabilities: {opt.predict_proba(X_test)}\\n\")"
   ]
  },
  {
   "cell_type": "markdown",
   "metadata": {},
   "source": [
    "### Best Classifier Steps"
   ]
  },
  {
   "cell_type": "code",
   "execution_count": 10,
   "metadata": {},
   "outputs": [
    {
     "name": "stdout",
     "output_type": "stream",
     "text": [
      "Steps: [('scaler', StandardScaler()), ('clf', XGBClassifier(base_score=None, booster=None, callbacks=None,\n",
      "              colsample_bylevel=0.9293912411493371,\n",
      "              colsample_bynode=0.7898895684191161,\n",
      "              colsample_bytree=0.7007188826885055, device=None,\n",
      "              early_stopping_rounds=None, enable_categorical=False,\n",
      "              eval_metric=None, feature_types=None, gamma=8.269507500638683,\n",
      "              grow_policy=None, importance_type=None,\n",
      "              interaction_constraints=None, learning_rate=0.26582794314867314,\n",
      "              max_bin=None, max_cat_threshold=None, max_cat_to_onehot=None,\n",
      "              max_delta_step=None, max_depth=10, max_leaves=None,\n",
      "              min_child_weight=None, missing=nan, monotone_constraints=None,\n",
      "              multi_strategy=None, n_estimators=468, n_jobs=None,\n",
      "              num_parallel_tree=None, random_state=420, ...))]\n",
      "\n"
     ]
    }
   ],
   "source": [
    "print(f\"Steps: {opt.best_estimator_.steps}\\n\")"
   ]
  },
  {
   "cell_type": "markdown",
   "metadata": {},
   "source": [
    "### Feature Importances"
   ]
  },
  {
   "cell_type": "code",
   "execution_count": 14,
   "metadata": {},
   "outputs": [
    {
     "data": {
      "image/png": "[encoded data removed]",
      "text/plain": [
       "<Figure size 640x480 with 1 Axes>"
      ]
     },
     "metadata": {},
     "output_type": "display_data"
    }
   ],
   "source": [
    "xgboost_model = opt.best_estimator_.named_steps['clf']\n",
    "importance = pd.DataFrame({'Feature': X.columns, 'Importance': xgboost_model.feature_importances_}).sort_values(by='Importance', ascending=False)\n",
    "sns.barplot(x='Importance', y='Feature', data=importance)\n",
    "plt.title('Feature Importance')\n",
    "plt.show()"
   ]
  }
 ],
 "metadata": {
  "kernelspec": {
   "display_name": "datascience",
   "language": "python",
   "name": "python3"
  },
  "language_info": {
   "codemirror_mode": {
    "name": "ipython",
    "version": 3
   },
   "file_extension": ".py",
   "mimetype": "text/x-python",
   "name": "python",
   "nbconvert_exporter": "python",
   "pygments_lexer": "ipython3",
   "version": "3.12.2"
  }
 },
 "nbformat": 4,
 "nbformat_minor": 2
}
